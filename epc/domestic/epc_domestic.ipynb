{
 "cells": [
  {
   "cell_type": "code",
   "execution_count": 107,
   "metadata": {},
   "outputs": [
    {
     "data": {
      "text/html": [
       "<div>\n",
       "<style scoped>\n",
       "    .dataframe tbody tr th:only-of-type {\n",
       "        vertical-align: middle;\n",
       "    }\n",
       "\n",
       "    .dataframe tbody tr th {\n",
       "        vertical-align: top;\n",
       "    }\n",
       "\n",
       "    .dataframe thead th {\n",
       "        text-align: right;\n",
       "    }\n",
       "</style>\n",
       "<table border=\"1\" class=\"dataframe\">\n",
       "  <thead>\n",
       "    <tr style=\"text-align: right;\">\n",
       "      <th></th>\n",
       "      <th>LMK_KEY</th>\n",
       "      <th>ADDRESS1</th>\n",
       "      <th>ADDRESS2</th>\n",
       "      <th>ADDRESS3</th>\n",
       "      <th>POSTCODE</th>\n",
       "      <th>BUILDING_REFERENCE_NUMBER</th>\n",
       "      <th>CURRENT_ENERGY_RATING</th>\n",
       "      <th>POTENTIAL_ENERGY_RATING</th>\n",
       "      <th>CURRENT_ENERGY_EFFICIENCY</th>\n",
       "      <th>POTENTIAL_ENERGY_EFFICIENCY</th>\n",
       "      <th>...</th>\n",
       "      <th>HEAT_LOSS_CORRIDOOR</th>\n",
       "      <th>UNHEATED_CORRIDOR_LENGTH</th>\n",
       "      <th>FLOOR_HEIGHT</th>\n",
       "      <th>PHOTO_SUPPLY</th>\n",
       "      <th>SOLAR_WATER_HEATING_FLAG</th>\n",
       "      <th>MECHANICAL_VENTILATION</th>\n",
       "      <th>ADDRESS</th>\n",
       "      <th>LOCAL_AUTHORITY_LABEL</th>\n",
       "      <th>CONSTITUENCY_LABEL</th>\n",
       "      <th>CERTIFICATE_HASH</th>\n",
       "    </tr>\n",
       "  </thead>\n",
       "  <tbody>\n",
       "    <tr>\n",
       "      <th>0</th>\n",
       "      <td>222167720090130110104</td>\n",
       "      <td>28, Ibscott Close</td>\n",
       "      <td>NaN</td>\n",
       "      <td>NaN</td>\n",
       "      <td>RM10 9YS</td>\n",
       "      <td>3976627568</td>\n",
       "      <td>C</td>\n",
       "      <td>C</td>\n",
       "      <td>71</td>\n",
       "      <td>71</td>\n",
       "      <td>...</td>\n",
       "      <td>unheated corridor</td>\n",
       "      <td>3.4</td>\n",
       "      <td>2.400</td>\n",
       "      <td>0.0</td>\n",
       "      <td>N</td>\n",
       "      <td>natural</td>\n",
       "      <td>28, Ibscott Close</td>\n",
       "      <td>Barking and Dagenham</td>\n",
       "      <td>Dagenham and Rainham</td>\n",
       "      <td>cc010af7b5ae329de66f830eac04b593bf5a6bf3435780...</td>\n",
       "    </tr>\n",
       "    <tr>\n",
       "      <th>1</th>\n",
       "      <td>268854520090420090400</td>\n",
       "      <td>457a, Porters Avenue</td>\n",
       "      <td>NaN</td>\n",
       "      <td>NaN</td>\n",
       "      <td>RM9 4ND</td>\n",
       "      <td>3338380668</td>\n",
       "      <td>D</td>\n",
       "      <td>D</td>\n",
       "      <td>62</td>\n",
       "      <td>66</td>\n",
       "      <td>...</td>\n",
       "      <td>no corridor</td>\n",
       "      <td>NaN</td>\n",
       "      <td>2.500</td>\n",
       "      <td>0.0</td>\n",
       "      <td>N</td>\n",
       "      <td>natural</td>\n",
       "      <td>457a, Porters Avenue</td>\n",
       "      <td>Barking and Dagenham</td>\n",
       "      <td>Barking</td>\n",
       "      <td>07028a81dc0a60ba5da6b271c635ec158d11f5a3f2ebbe...</td>\n",
       "    </tr>\n",
       "    <tr>\n",
       "      <th>2</th>\n",
       "      <td>368918520090923030935</td>\n",
       "      <td>32, Greenwood Avenue</td>\n",
       "      <td>NaN</td>\n",
       "      <td>NaN</td>\n",
       "      <td>RM10 7DL</td>\n",
       "      <td>5045087668</td>\n",
       "      <td>D</td>\n",
       "      <td>C</td>\n",
       "      <td>66</td>\n",
       "      <td>69</td>\n",
       "      <td>...</td>\n",
       "      <td>NO DATA!</td>\n",
       "      <td>NaN</td>\n",
       "      <td>2.446</td>\n",
       "      <td>0.0</td>\n",
       "      <td>N</td>\n",
       "      <td>natural</td>\n",
       "      <td>32, Greenwood Avenue</td>\n",
       "      <td>Barking and Dagenham</td>\n",
       "      <td>Dagenham and Rainham</td>\n",
       "      <td>9e33029e5bdf67821a64d1f3779e30454664568140956f...</td>\n",
       "    </tr>\n",
       "    <tr>\n",
       "      <th>3</th>\n",
       "      <td>399219320091117091121</td>\n",
       "      <td>41, Stevens Road</td>\n",
       "      <td>NaN</td>\n",
       "      <td>NaN</td>\n",
       "      <td>RM8 2QP</td>\n",
       "      <td>1695199668</td>\n",
       "      <td>D</td>\n",
       "      <td>D</td>\n",
       "      <td>56</td>\n",
       "      <td>61</td>\n",
       "      <td>...</td>\n",
       "      <td>NO DATA!</td>\n",
       "      <td>NaN</td>\n",
       "      <td>2.500</td>\n",
       "      <td>0.0</td>\n",
       "      <td>N</td>\n",
       "      <td>natural</td>\n",
       "      <td>41, Stevens Road</td>\n",
       "      <td>Barking and Dagenham</td>\n",
       "      <td>Barking</td>\n",
       "      <td>0c26a1eee2bfcf65f0c234fd39acc0584409975974c8e9...</td>\n",
       "    </tr>\n",
       "    <tr>\n",
       "      <th>4</th>\n",
       "      <td>1059002820131211111237</td>\n",
       "      <td>14 Tiger Close</td>\n",
       "      <td>NaN</td>\n",
       "      <td>NaN</td>\n",
       "      <td>IG11 0RZ</td>\n",
       "      <td>1671157178</td>\n",
       "      <td>C</td>\n",
       "      <td>C</td>\n",
       "      <td>80</td>\n",
       "      <td>80</td>\n",
       "      <td>...</td>\n",
       "      <td>NO DATA!</td>\n",
       "      <td>NaN</td>\n",
       "      <td>NaN</td>\n",
       "      <td>NaN</td>\n",
       "      <td>NaN</td>\n",
       "      <td>NO DATA!</td>\n",
       "      <td>14 Tiger Close</td>\n",
       "      <td>Barking and Dagenham</td>\n",
       "      <td>Barking</td>\n",
       "      <td>248a10624a532220187d5d5c07f6c803f157a61cbd2165...</td>\n",
       "    </tr>\n",
       "  </tbody>\n",
       "</table>\n",
       "<p>5 rows × 85 columns</p>\n",
       "</div>"
      ],
      "text/plain": [
       "                  LMK_KEY              ADDRESS1 ADDRESS2 ADDRESS3  POSTCODE  \\\n",
       "0   222167720090130110104     28, Ibscott Close      NaN      NaN  RM10 9YS   \n",
       "1   268854520090420090400  457a, Porters Avenue      NaN      NaN   RM9 4ND   \n",
       "2   368918520090923030935  32, Greenwood Avenue      NaN      NaN  RM10 7DL   \n",
       "3   399219320091117091121      41, Stevens Road      NaN      NaN   RM8 2QP   \n",
       "4  1059002820131211111237        14 Tiger Close      NaN      NaN  IG11 0RZ   \n",
       "\n",
       "   BUILDING_REFERENCE_NUMBER CURRENT_ENERGY_RATING POTENTIAL_ENERGY_RATING  \\\n",
       "0                 3976627568                     C                       C   \n",
       "1                 3338380668                     D                       D   \n",
       "2                 5045087668                     D                       C   \n",
       "3                 1695199668                     D                       D   \n",
       "4                 1671157178                     C                       C   \n",
       "\n",
       "   CURRENT_ENERGY_EFFICIENCY  POTENTIAL_ENERGY_EFFICIENCY  \\\n",
       "0                         71                           71   \n",
       "1                         62                           66   \n",
       "2                         66                           69   \n",
       "3                         56                           61   \n",
       "4                         80                           80   \n",
       "\n",
       "                         ...                         HEAT_LOSS_CORRIDOOR  \\\n",
       "0                        ...                           unheated corridor   \n",
       "1                        ...                                 no corridor   \n",
       "2                        ...                                    NO DATA!   \n",
       "3                        ...                                    NO DATA!   \n",
       "4                        ...                                    NO DATA!   \n",
       "\n",
       "  UNHEATED_CORRIDOR_LENGTH FLOOR_HEIGHT PHOTO_SUPPLY SOLAR_WATER_HEATING_FLAG  \\\n",
       "0                      3.4        2.400          0.0                        N   \n",
       "1                      NaN        2.500          0.0                        N   \n",
       "2                      NaN        2.446          0.0                        N   \n",
       "3                      NaN        2.500          0.0                        N   \n",
       "4                      NaN          NaN          NaN                      NaN   \n",
       "\n",
       "  MECHANICAL_VENTILATION               ADDRESS LOCAL_AUTHORITY_LABEL  \\\n",
       "0                natural     28, Ibscott Close  Barking and Dagenham   \n",
       "1                natural  457a, Porters Avenue  Barking and Dagenham   \n",
       "2                natural  32, Greenwood Avenue  Barking and Dagenham   \n",
       "3                natural      41, Stevens Road  Barking and Dagenham   \n",
       "4               NO DATA!        14 Tiger Close  Barking and Dagenham   \n",
       "\n",
       "     CONSTITUENCY_LABEL                                   CERTIFICATE_HASH  \n",
       "0  Dagenham and Rainham  cc010af7b5ae329de66f830eac04b593bf5a6bf3435780...  \n",
       "1               Barking  07028a81dc0a60ba5da6b271c635ec158d11f5a3f2ebbe...  \n",
       "2  Dagenham and Rainham  9e33029e5bdf67821a64d1f3779e30454664568140956f...  \n",
       "3               Barking  0c26a1eee2bfcf65f0c234fd39acc0584409975974c8e9...  \n",
       "4               Barking  248a10624a532220187d5d5c07f6c803f157a61cbd2165...  \n",
       "\n",
       "[5 rows x 85 columns]"
      ]
     },
     "execution_count": 107,
     "metadata": {},
     "output_type": "execute_result"
    }
   ],
   "source": [
    "import pandas as pd\n",
    "\n",
    "filepath = 'https://raw.githubusercontent.com/LondonEnergyMap/rawdata/master/epc/domestic_epc_london/domestic-E09000002-Barking-and-Dagenham/certificates.csv'\n",
    "df = pd.read_csv(filepath)\n",
    "df.head()"
   ]
  },
  {
   "cell_type": "code",
   "execution_count": 93,
   "metadata": {},
   "outputs": [
    {
     "data": {
      "text/plain": [
       "Index(['LMK_KEY', 'ADDRESS1', 'ADDRESS2', 'ADDRESS3', 'POSTCODE',\n",
       "       'BUILDING_REFERENCE_NUMBER', 'CURRENT_ENERGY_RATING',\n",
       "       'POTENTIAL_ENERGY_RATING', 'CURRENT_ENERGY_EFFICIENCY',\n",
       "       'POTENTIAL_ENERGY_EFFICIENCY', 'PROPERTY_TYPE', 'BUILT_FORM',\n",
       "       'INSPECTION_DATE', 'LOCAL_AUTHORITY', 'CONSTITUENCY', 'COUNTY',\n",
       "       'LODGEMENT_DATE', 'TRANSACTION_TYPE', 'ENVIRONMENT_IMPACT_CURRENT',\n",
       "       'ENVIRONMENT_IMPACT_POTENTIAL', 'ENERGY_CONSUMPTION_CURRENT',\n",
       "       'ENERGY_CONSUMPTION_POTENTIAL', 'CO2_EMISSIONS_CURRENT',\n",
       "       'CO2_EMISS_CURR_PER_FLOOR_AREA', 'CO2_EMISSIONS_POTENTIAL',\n",
       "       'LIGHTING_COST_CURRENT', 'LIGHTING_COST_POTENTIAL',\n",
       "       'HEATING_COST_CURRENT', 'HEATING_COST_POTENTIAL',\n",
       "       'HOT_WATER_COST_CURRENT', 'HOT_WATER_COST_POTENTIAL',\n",
       "       'TOTAL_FLOOR_AREA', 'ENERGY_TARIFF', 'MAINS_GAS_FLAG', 'FLOOR_LEVEL',\n",
       "       'FLAT_TOP_STOREY', 'FLAT_STOREY_COUNT', 'MAIN_HEATING_CONTROLS',\n",
       "       'MULTI_GLAZE_PROPORTION', 'GLAZED_TYPE', 'GLAZED_AREA',\n",
       "       'EXTENSION_COUNT', 'NUMBER_HABITABLE_ROOMS', 'NUMBER_HEATED_ROOMS',\n",
       "       'LOW_ENERGY_LIGHTING', 'NUMBER_OPEN_FIREPLACES', 'HOTWATER_DESCRIPTION',\n",
       "       'HOT_WATER_ENERGY_EFF', 'HOT_WATER_ENV_EFF', 'FLOOR_DESCRIPTION',\n",
       "       'FLOOR_ENERGY_EFF', 'FLOOR_ENV_EFF', 'WINDOWS_DESCRIPTION',\n",
       "       'WINDOWS_ENERGY_EFF', 'WINDOWS_ENV_EFF', 'WALLS_DESCRIPTION',\n",
       "       'WALLS_ENERGY_EFF', 'WALLS_ENV_EFF', 'SECONDHEAT_DESCRIPTION',\n",
       "       'SHEATING_ENERGY_EFF', 'SHEATING_ENV_EFF', 'ROOF_DESCRIPTION',\n",
       "       'ROOF_ENERGY_EFF', 'ROOF_ENV_EFF', 'MAINHEAT_DESCRIPTION',\n",
       "       'MAINHEAT_ENERGY_EFF', 'MAINHEAT_ENV_EFF', 'MAINHEATCONT_DESCRIPTION',\n",
       "       'MAINHEATC_ENERGY_EFF', 'MAINHEATC_ENV_EFF', 'LIGHTING_DESCRIPTION',\n",
       "       'LIGHTING_ENERGY_EFF', 'LIGHTING_ENV_EFF', 'MAIN_FUEL',\n",
       "       'WIND_TURBINE_COUNT', 'HEAT_LOSS_CORRIDOOR', 'UNHEATED_CORRIDOR_LENGTH',\n",
       "       'FLOOR_HEIGHT', 'PHOTO_SUPPLY', 'SOLAR_WATER_HEATING_FLAG',\n",
       "       'MECHANICAL_VENTILATION', 'ADDRESS', 'LOCAL_AUTHORITY_LABEL',\n",
       "       'CONSTITUENCY_LABEL', 'CERTIFICATE_HASH'],\n",
       "      dtype='object')"
      ]
     },
     "execution_count": 93,
     "metadata": {},
     "output_type": "execute_result"
    }
   ],
   "source": [
    "df.columns\n"
   ]
  },
  {
   "cell_type": "code",
   "execution_count": 94,
   "metadata": {},
   "outputs": [],
   "source": [
    "d = {'old': df.columns}\n",
    "df_dict = pd.DataFrame(data=d)\n",
    "df_dict.set_index('old', inplace=True)\n",
    "\n",
    "df_dict['new']=[\n",
    "        'key',\n",
    "        'add1',\n",
    "        'add2',\n",
    "        'add3',\n",
    "        'pcode',\n",
    "        'bref',\n",
    "        'curr_enr',\n",
    "        'poten_enr',\n",
    "        'curr_eff',\n",
    "        'poten_eff',\n",
    "        'prop_type',\n",
    "        'builtform',\n",
    "        'insp_date',\n",
    "        'localauth_code',\n",
    "        'constit_code',\n",
    "        'county',\n",
    "        'lodge_date',\n",
    "        'transact_type',\n",
    "        'curr_envirr',\n",
    "        'poten_envirr',\n",
    "        'curr_encons',\n",
    "        'poten_encons',\n",
    "        'curr_co2',\n",
    "        'curr_co2perarea',\n",
    "        'poten_co2',\n",
    "        'curr_light',\n",
    "        'poten_light',\n",
    "        'curr_heatcost',\n",
    "        'poten_heatcost',\n",
    "        'curr_hotwtr',\n",
    "        'poten_hotwtr',\n",
    "        'tfa',\n",
    "        'tariff',\n",
    "        'mainsgas',\n",
    "        'flvl',\n",
    "        'flattop',\n",
    "        'flattop_cnt',\n",
    "        'mainheatcontrol',\n",
    "        'glaze_percent',\n",
    "        'glaze_type',\n",
    "        'glaze_area',\n",
    "        'nextension',\n",
    "        'nrooms',\n",
    "        'nheatedrooms',\n",
    "        'led_percent',\n",
    "        'nfireplace',\n",
    "        'hotwtr',\n",
    "        'hotwtr_eff',\n",
    "        'hotwtr_enveff',\n",
    "        'floor',\n",
    "        'floor_eff',\n",
    "        'floor_enveff',\n",
    "        'window',\n",
    "        'window_eff',\n",
    "        'window_enveff',\n",
    "        'wall',\n",
    "        'wall_eff',\n",
    "        'wall_enveff',\n",
    "        'heat2',\n",
    "        'heat2_eff',\n",
    "        'heat2_enveff',\n",
    "        'roof',\n",
    "        'roof_eff',\n",
    "        'roof_enveff',\n",
    "        'heat',\n",
    "        'heat_eff',\n",
    "        'heat_enveff',\n",
    "        'control',\n",
    "        'control_eff',\n",
    "        'control_enveff',\n",
    "        'light',\n",
    "        'light_eff',\n",
    "        'light_enveff',\n",
    "        'mainfuel',\n",
    "        'windt',\n",
    "        'corridor',\n",
    "        'unhcorridor',\n",
    "        'fheight',\n",
    "        'pv',\n",
    "        'solarwtr',\n",
    "        'mechvent',\n",
    "        'addfull',\n",
    "        'localauth',\n",
    "        'constit',\n",
    "        'certificateh'\n",
    "        ]\n"
   ]
  },
  {
   "cell_type": "code",
   "execution_count": 95,
   "metadata": {},
   "outputs": [],
   "source": [
    "# convert dataframe to dictionary\n",
    "col_dict = df_dict['new'].to_dict()\n",
    "df.rename(columns = col_dict, inplace=True)"
   ]
  },
  {
   "cell_type": "code",
   "execution_count": 96,
   "metadata": {},
   "outputs": [
    {
     "data": {
      "text/plain": [
       "Index(['key', 'add1', 'add2', 'add3', 'pcode', 'bref', 'curr_enr', 'poten_enr',\n",
       "       'curr_eff', 'poten_eff', 'prop_type', 'builtform', 'insp_date',\n",
       "       'localauth_code', 'constit_code', 'county', 'lodge_date',\n",
       "       'transact_type', 'curr_envirr', 'poten_envirr', 'curr_encons',\n",
       "       'poten_encons', 'curr_co2', 'curr_co2perarea', 'poten_co2',\n",
       "       'curr_light', 'poten_light', 'curr_heatcost', 'poten_heatcost',\n",
       "       'curr_hotwtr', 'poten_hotwtr', 'tfa', 'tariff', 'mainsgas', 'flvl',\n",
       "       'flattop', 'flattop_cnt', 'mainheatcontrol', 'glaze_percent',\n",
       "       'glaze_type', 'glaze_area', 'nextension', 'nrooms', 'nheatedrooms',\n",
       "       'led_percent', 'nfireplace', 'hotwtr', 'hotwtr_eff', 'hotwtr_enveff',\n",
       "       'floor', 'floor_eff', 'floor_enveff', 'window', 'window_eff',\n",
       "       'window_enveff', 'wall', 'wall_eff', 'wall_enveff', 'heat2',\n",
       "       'heat2_eff', 'heat2_enveff', 'roof', 'roof_eff', 'roof_enveff', 'heat',\n",
       "       'heat_eff', 'heat_enveff', 'control', 'control_eff', 'control_enveff',\n",
       "       'light', 'light_eff', 'light_enveff', 'mainfuel', 'windt', 'corridor',\n",
       "       'unhcorridor', 'fheight', 'pv', 'solarwtr', 'mechvent', 'addfull',\n",
       "       'localauth', 'constit', 'certificateh'],\n",
       "      dtype='object')"
      ]
     },
     "execution_count": 96,
     "metadata": {},
     "output_type": "execute_result"
    }
   ],
   "source": [
    "df.columns"
   ]
  },
  {
   "cell_type": "code",
   "execution_count": 97,
   "metadata": {},
   "outputs": [
    {
     "data": {
      "text/plain": [
       "(51169, 85)"
      ]
     },
     "execution_count": 97,
     "metadata": {},
     "output_type": "execute_result"
    }
   ],
   "source": [
    "df.shape"
   ]
  },
  {
   "cell_type": "code",
   "execution_count": 98,
   "metadata": {},
   "outputs": [
    {
     "data": {
      "text/plain": [
       "0     222167720090130110104\n",
       "1     268854520090420090400\n",
       "2     368918520090923030935\n",
       "3     399219320091117091121\n",
       "4    1059002820131211111237\n",
       "Name: key, dtype: object"
      ]
     },
     "execution_count": 98,
     "metadata": {},
     "output_type": "execute_result"
    }
   ],
   "source": [
    "# can drop key? for lodgements\n",
    "df.key.head()"
   ]
  },
  {
   "cell_type": "code",
   "execution_count": 99,
   "metadata": {},
   "outputs": [
    {
     "data": {
      "text/plain": [
       "0     natural\n",
       "1     natural\n",
       "2     natural\n",
       "3     natural\n",
       "4    NO DATA!\n",
       "Name: mechvent, dtype: object"
      ]
     },
     "execution_count": 99,
     "metadata": {},
     "output_type": "execute_result"
    }
   ],
   "source": [
    "h = df_dict.new[80]\n",
    "df[h].head()"
   ]
  },
  {
   "cell_type": "code",
   "execution_count": 100,
   "metadata": {},
   "outputs": [
    {
     "data": {
      "text/plain": [
       "array(['natural', 'NO DATA!', 'mechanical, supply and extract',\n",
       "       'mechanical, extract only'], dtype=object)"
      ]
     },
     "execution_count": 100,
     "metadata": {},
     "output_type": "execute_result"
    }
   ],
   "source": [
    "df[h].unique()"
   ]
  },
  {
   "cell_type": "code",
   "execution_count": 101,
   "metadata": {},
   "outputs": [
    {
     "data": {
      "text/plain": [
       "'flattop'"
      ]
     },
     "execution_count": 101,
     "metadata": {},
     "output_type": "execute_result"
    }
   ],
   "source": [
    "# for 6, 10, 11, 17, 32-35, 39, 40, 47, 48, 50,51, 53,54, 56,57, 59,60, 62,63, 65,66, 68,69, 71,72, 75, 79, 80\n",
    "# change the following columns to category\n",
    "\n",
    "cat = [6, 10, 11, 17, 32, 33, 34, 35, 39, 40, 47, 48, 50,51, 53,54, 56,57, 59,60, 62,63, 65,66, 68,69, 71,72, 75, 79, 80]\n",
    "\n",
    "\n",
    "temp = df_dict.new[cat[7]]\n",
    "df['new'] = df[temp].astype('category')\n",
    "temp"
   ]
  },
  {
   "cell_type": "code",
   "execution_count": 102,
   "metadata": {},
   "outputs": [
    {
     "data": {
      "text/plain": [
       "'poten_encons'"
      ]
     },
     "execution_count": 102,
     "metadata": {},
     "output_type": "execute_result"
    }
   ],
   "source": [
    "intlist = [8, 18, 19, 20, 21]\n",
    "\n",
    "\n",
    "temp = df_dict.new[intlist[4]]\n",
    "df['new'] = df[temp].astype('int32')\n",
    "temp"
   ]
  },
  {
   "cell_type": "code",
   "execution_count": 103,
   "metadata": {},
   "outputs": [
    {
     "data": {
      "text/plain": [
       "'fheight'"
      ]
     },
     "execution_count": 103,
     "metadata": {},
     "output_type": "execute_result"
    }
   ],
   "source": [
    "# convert float to float32\n",
    "floatlist = [22, 23, 24, 25, 26, 27, 28, 29, 30, 31, 76, 77]\n",
    "\n",
    "temp = df_dict.new[floatlist[11]]\n",
    "df['new'] = df[temp].astype('float32')\n",
    "temp"
   ]
  },
  {
   "cell_type": "code",
   "execution_count": 104,
   "metadata": {},
   "outputs": [
    {
     "data": {
      "text/plain": [
       "array([ 0., nan, 45., 50., 40., 33., 32., 80., 35.,  1., 66., 51., 20.,\n",
       "       25.,  9., 60.])"
      ]
     },
     "execution_count": 104,
     "metadata": {},
     "output_type": "execute_result"
    }
   ],
   "source": [
    "f2int = [36, 38, 41, 42, 43, 44, 45, 74, 78] #winturbine(74) use -100?\n",
    "\n",
    "# cannot convert float to int if there are missing values, so first convert NaN to -1\n",
    "temp = df_dict.new[f2int[]]\n",
    "df[temp].unique()\n",
    "#temp\n"
   ]
  },
  {
   "cell_type": "code",
   "execution_count": 105,
   "metadata": {},
   "outputs": [
    {
     "data": {
      "text/plain": [
       "'pv'"
      ]
     },
     "execution_count": 105,
     "metadata": {},
     "output_type": "execute_result"
    }
   ],
   "source": [
    "df[temp].fillna(-1, inplace=True)\n",
    "df['new'] = df[temp].astype('int32')\n",
    "temp"
   ]
  },
  {
   "cell_type": "code",
   "execution_count": null,
   "metadata": {},
   "outputs": [],
   "source": []
  }
 ],
 "metadata": {
  "kernelspec": {
   "display_name": "Python 3",
   "language": "python",
   "name": "python3"
  },
  "language_info": {
   "codemirror_mode": {
    "name": "ipython",
    "version": 3
   },
   "file_extension": ".py",
   "mimetype": "text/x-python",
   "name": "python",
   "nbconvert_exporter": "python",
   "pygments_lexer": "ipython3",
   "version": "3.6.8"
  }
 },
 "nbformat": 4,
 "nbformat_minor": 2
}
