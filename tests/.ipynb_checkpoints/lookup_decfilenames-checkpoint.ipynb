{
 "cells": [
  {
   "cell_type": "code",
   "execution_count": 7,
   "metadata": {},
   "outputs": [
    {
     "data": {
      "text/html": [
       "<div>\n",
       "<style scoped>\n",
       "    .dataframe tbody tr th:only-of-type {\n",
       "        vertical-align: middle;\n",
       "    }\n",
       "\n",
       "    .dataframe tbody tr th {\n",
       "        vertical-align: top;\n",
       "    }\n",
       "\n",
       "    .dataframe thead th {\n",
       "        text-align: right;\n",
       "    }\n",
       "</style>\n",
       "<table border=\"1\" class=\"dataframe\">\n",
       "  <thead>\n",
       "    <tr style=\"text-align: right;\">\n",
       "      <th></th>\n",
       "      <th>Unnamed: 0</th>\n",
       "      <th>code</th>\n",
       "      <th>localauthority</th>\n",
       "      <th>fid</th>\n",
       "      <th>london</th>\n",
       "    </tr>\n",
       "  </thead>\n",
       "  <tbody>\n",
       "    <tr>\n",
       "      <th>0</th>\n",
       "      <td>0</td>\n",
       "      <td>E09000001</td>\n",
       "      <td>City of London</td>\n",
       "      <td>1</td>\n",
       "      <td>1</td>\n",
       "    </tr>\n",
       "    <tr>\n",
       "      <th>1</th>\n",
       "      <td>1</td>\n",
       "      <td>E08000024</td>\n",
       "      <td>Sunderland</td>\n",
       "      <td>2</td>\n",
       "      <td>0</td>\n",
       "    </tr>\n",
       "    <tr>\n",
       "      <th>2</th>\n",
       "      <td>2</td>\n",
       "      <td>E09000002</td>\n",
       "      <td>Barking and Dagenham</td>\n",
       "      <td>3</td>\n",
       "      <td>1</td>\n",
       "    </tr>\n",
       "    <tr>\n",
       "      <th>3</th>\n",
       "      <td>3</td>\n",
       "      <td>E08000025</td>\n",
       "      <td>Birmingham</td>\n",
       "      <td>4</td>\n",
       "      <td>0</td>\n",
       "    </tr>\n",
       "    <tr>\n",
       "      <th>4</th>\n",
       "      <td>4</td>\n",
       "      <td>E08000026</td>\n",
       "      <td>Coventry</td>\n",
       "      <td>5</td>\n",
       "      <td>0</td>\n",
       "    </tr>\n",
       "  </tbody>\n",
       "</table>\n",
       "</div>"
      ],
      "text/plain": [
       "   Unnamed: 0       code        localauthority  fid  london\n",
       "0           0  E09000001        City of London    1       1\n",
       "1           1  E08000024            Sunderland    2       0\n",
       "2           2  E09000002  Barking and Dagenham    3       1\n",
       "3           3  E08000025            Birmingham    4       0\n",
       "4           4  E08000026              Coventry    5       0"
      ]
     },
     "execution_count": 7,
     "metadata": {},
     "output_type": "execute_result"
    }
   ],
   "source": [
    "import pandas as pd\n",
    "\n",
    "boroughspath = 'https://raw.githubusercontent.com/LondonEnergyMap/rawdata/master/boroughsldn_lookup/localauthority_lookuptable.csv'\n",
    "\n",
    "df = pd.read_csv(boroughspath)\n",
    "df.head()"
   ]
  },
  {
   "cell_type": "code",
   "execution_count": 8,
   "metadata": {},
   "outputs": [],
   "source": [
    "df = df[df.london==1]"
   ]
  },
  {
   "cell_type": "code",
   "execution_count": 9,
   "metadata": {},
   "outputs": [
    {
     "data": {
      "text/plain": [
       "0             E09000001-City-of-London\n",
       "2       E09000002-Barking-and-Dagenham\n",
       "5                     E09000003-Barnet\n",
       "6                     E09000004-Bexley\n",
       "9                      E09000005-Brent\n",
       "10                   E09000006-Bromley\n",
       "13                    E09000007-Camden\n",
       "14                   E09000008-Croydon\n",
       "17                    E09000009-Ealing\n",
       "18                   E09000010-Enfield\n",
       "21                 E09000011-Greenwich\n",
       "22                   E09000012-Hackney\n",
       "25    E09000013-Hammersmith-and-Fulham\n",
       "26                  E09000014-Haringey\n",
       "29                    E09000015-Harrow\n",
       "30                  E09000016-Havering\n",
       "33                E09000017-Hillingdon\n",
       "34                  E09000018-Hounslow\n",
       "37                 E09000019-Islington\n",
       "38    E09000020-Kensington-and-Chelsea\n",
       "42                   E09000022-Lambeth\n",
       "45                  E09000023-Lewisham\n",
       "46                    E09000024-Merton\n",
       "49                    E09000025-Newham\n",
       "50                 E09000026-Redbridge\n",
       "54                 E09000028-Southwark\n",
       "57                    E09000029-Sutton\n",
       "58             E09000030-Tower-Hamlets\n",
       "61            E09000031-Waltham-Forest\n",
       "62                E09000032-Wandsworth\n",
       "65               E09000033-Westminster\n",
       "dtype: object"
      ]
     },
     "execution_count": 9,
     "metadata": {},
     "output_type": "execute_result"
    }
   ],
   "source": [
    "df['localauthority'] = df.localauthority.replace(' ', '-', regex=True)\n",
    "boroughs = df.code + '-' + df.localauthority\n",
    "boroughs"
   ]
  },
  {
   "cell_type": "code",
   "execution_count": null,
   "metadata": {},
   "outputs": [],
   "source": []
  },
  {
   "cell_type": "code",
   "execution_count": null,
   "metadata": {},
   "outputs": [],
   "source": []
  }
 ],
 "metadata": {
  "kernelspec": {
   "display_name": "Python 3",
   "language": "python",
   "name": "python3"
  },
  "language_info": {
   "codemirror_mode": {
    "name": "ipython",
    "version": 3
   },
   "file_extension": ".py",
   "mimetype": "text/x-python",
   "name": "python",
   "nbconvert_exporter": "python",
   "pygments_lexer": "ipython3",
   "version": "3.6.8"
  }
 },
 "nbformat": 4,
 "nbformat_minor": 2
}
